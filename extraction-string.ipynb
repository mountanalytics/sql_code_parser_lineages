{
 "cells": [
  {
   "cell_type": "code",
   "execution_count": 2,
   "metadata": {},
   "outputs": [],
   "source": [
    "import re"
   ]
  },
  {
   "cell_type": "code",
   "execution_count": 5,
   "metadata": {},
   "outputs": [
    {
     "name": "stdout",
     "output_type": "stream",
     "text": [
      "{'modified_SQL_query': 'INSERT INTO PROCESS_DB.market_data_analysis (\\n    stock_id, ticker, sector, total_volume_last_year, \\n    avg_closing_price_last_year, max_closing_price_last_year, \\n    min_closing_price_last_year, total_trades, avg_trade_value, \\n    max_trade_value, min_trade_value, total_dividends_paid, \\n    avg_dividend_yield, highest_volume_day, lowest_volume_day, \\n    most_recent_closing_price, total_investors, total_portfolios, \\n    most_active_investor, least_active_investor\\n)\\nSELECT \\n    md.stock_id, s.ticker, s.sector, \\n    SUM(md.volume) FILTER (WHERE md.market_date >= DATEADD(year, -1, GETDATE())) AS total_volume_last_year,\\n    AVG(md.closing_price) FILTER (WHERE md.market_date >= DATEADD(year, -1, GETDATE())) AS avg_closing_price_last_year,\\n    MAX(md.closing_price) FILTER (WHERE md.market_date >= DATEADD(year, -1, GETDATE())) AS max_closing_price_last_year,\\n    MIN(md.closing_price) FILTER (WHERE md.market_date >= DATEADD(year, -1, GETDATE())) AS min_closing_price_last_year,\\n    COUNT(t.trade_id) AS total_trades,\\n    AVG(t.quantity * t.price_per_share) AS avg_trade_value,\\n    MAX(t.quantity * t.price_per_share) AS max_trade_value,\\n    MIN(t.quantity * t.price_per_share) AS min_trade_value,\\n    SUM(d.dividend_amount * t.quantity) AS total_dividends_paid,\\n    AVG(CASE WHEN md.closing_price > 0 THEN d.dividend_amount / md.closing_price ELSE 0 END) AS avg_dividend_yield,\\n    subquery1 AS highest_volume_day,\\n    subquery2 AS lowest_volume_day,\\n    subquery3 AS most_recent_closing_price,\\n    COUNT(DISTINCT i.investor_id) AS total_investors,\\n    COUNT(DISTINCT p.portfolio_id) AS total_portfolios,\\n    (SELECT i.investor_id FROM SOURCE_DB.trades t1 JOIN SOURCE_DB.portfolios p ON t1.portfolio_id = p.portfolio_id JOIN SOURCE_DB.investors i ON p.investor_id = i.investor_id WHERE t1.stock_id = s.stock_id GROUP BY i.investor_id ORDER BY COUNT(t1.trade_id) DESC LIMIT 1) AS most_active_investor,\\n    (SELECT i.investor_id FROM SOURCE_DB.trades t1 JOIN SOURCE_DB.portfolios p ON t1.portfolio_id = p.portfolio_id JOIN SOURCE_DB.investors i ON p.investor_id = i.investor_id WHERE t1.stock_id = s.stock_id GROUP BY i.investor_id ORDER BY COUNT(t1.trade_id) ASC LIMIT 1) AS least_active_investor\\nFROM \\n    SOURCE_DB.market_data md\\nJOIN \\n    SOURCE_DB.stocks s ON md.stock_id = s.stock_id\\nJOIN \\n    SOURCE_DB.trades t ON s.stock_id = t.stock_id\\nJOIN \\n    SOURCE_DB.portfolios p ON t.portfolio_id = p.portfolio_id\\nJOIN \\n    SOURCE_DB.investors i ON p.investor_id = i.investor_id\\nJOIN \\n    SOURCE_DB.dividends d ON s.stock_id = d.stock_id\\nGROUP BY \\n    md.stock_id, s.ticker, s.sector;', 'subquery_dictionary': {'subquery1': '(SELECT md1.market_date FROM SOURCE_DB.market_data md1 WHERE md1.stock_id = md.stock_id ORDER BY md1.volume DESC LIMIT 1)', 'subquery2': '(SELECT md1.market_date FROM SOURCE_DB.market_data md1 WHERE md1.stock_id = md.stock_id ORDER BY md1.volume ASC LIMIT 1)', 'subquery3': '(SELECT md1.closing_price FROM SOURCE_DB.market_data md1 WHERE md1.stock_id = md.stock_id ORDER BY md1.market_date DESC LIMIT 1)'}}\n"
     ]
    }
   ],
   "source": [
    "def extract_subqueries(sql_query):\n",
    "    subquery_dict = {}\n",
    "    subquery_count = 1\n",
    "\n",
    "    # Pattern to match subqueries\n",
    "    subquery_pattern = re.compile(r'\\(([^()]*SELECT[^()]*FROM[^()]*)\\)', re.IGNORECASE)\n",
    "\n",
    "    def replace_subquery(match):\n",
    "        nonlocal subquery_count\n",
    "        subquery_label = f\"subquery{subquery_count}\"\n",
    "        subquery_content = match.group(1)\n",
    "        subquery_dict[subquery_label] = f\"({subquery_content})\"\n",
    "        subquery_count += 1\n",
    "        return subquery_label\n",
    "\n",
    "    # Extract subqueries\n",
    "    modified_sql_query = subquery_pattern.sub(replace_subquery, sql_query)\n",
    "\n",
    "    # Replace nested subquery placeholders\n",
    "    while subquery_pattern.search(modified_sql_query):\n",
    "        modified_sql_query = subquery_pattern.sub(replace_subquery, modified_sql_query)\n",
    "\n",
    "    # Final dictionary\n",
    "    result_dict = {\n",
    "        'modified_SQL_query': modified_sql_query,\n",
    "        'subquery_dictionary': subquery_dict\n",
    "    }\n",
    "\n",
    "    return result_dict\n",
    "\n",
    "input_sql_query = '''INSERT INTO PROCESS_DB.market_data_analysis (\n",
    "    stock_id, ticker, sector, total_volume_last_year, \n",
    "    avg_closing_price_last_year, max_closing_price_last_year, \n",
    "    min_closing_price_last_year, total_trades, avg_trade_value, \n",
    "    max_trade_value, min_trade_value, total_dividends_paid, \n",
    "    avg_dividend_yield, highest_volume_day, lowest_volume_day, \n",
    "    most_recent_closing_price, total_investors, total_portfolios, \n",
    "    most_active_investor, least_active_investor\n",
    ")\n",
    "SELECT \n",
    "    md.stock_id, s.ticker, s.sector, \n",
    "    SUM(md.volume) FILTER (WHERE md.market_date >= DATEADD(year, -1, GETDATE())) AS total_volume_last_year,\n",
    "    AVG(md.closing_price) FILTER (WHERE md.market_date >= DATEADD(year, -1, GETDATE())) AS avg_closing_price_last_year,\n",
    "    MAX(md.closing_price) FILTER (WHERE md.market_date >= DATEADD(year, -1, GETDATE())) AS max_closing_price_last_year,\n",
    "    MIN(md.closing_price) FILTER (WHERE md.market_date >= DATEADD(year, -1, GETDATE())) AS min_closing_price_last_year,\n",
    "    COUNT(t.trade_id) AS total_trades,\n",
    "    AVG(t.quantity * t.price_per_share) AS avg_trade_value,\n",
    "    MAX(t.quantity * t.price_per_share) AS max_trade_value,\n",
    "    MIN(t.quantity * t.price_per_share) AS min_trade_value,\n",
    "    SUM(d.dividend_amount * t.quantity) AS total_dividends_paid,\n",
    "    AVG(CASE WHEN md.closing_price > 0 THEN d.dividend_amount / md.closing_price ELSE 0 END) AS avg_dividend_yield,\n",
    "    (SELECT md1.market_date FROM SOURCE_DB.market_data md1 WHERE md1.stock_id = md.stock_id ORDER BY md1.volume DESC LIMIT 1) AS highest_volume_day,\n",
    "    (SELECT md1.market_date FROM SOURCE_DB.market_data md1 WHERE md1.stock_id = md.stock_id ORDER BY md1.volume ASC LIMIT 1) AS lowest_volume_day,\n",
    "    (SELECT md1.closing_price FROM SOURCE_DB.market_data md1 WHERE md1.stock_id = md.stock_id ORDER BY md1.market_date DESC LIMIT 1) AS most_recent_closing_price,\n",
    "    COUNT(DISTINCT i.investor_id) AS total_investors,\n",
    "    COUNT(DISTINCT p.portfolio_id) AS total_portfolios,\n",
    "    (SELECT i.investor_id FROM SOURCE_DB.trades t1 JOIN SOURCE_DB.portfolios p ON t1.portfolio_id = p.portfolio_id JOIN SOURCE_DB.investors i ON p.investor_id = i.investor_id WHERE t1.stock_id = s.stock_id GROUP BY i.investor_id ORDER BY COUNT(t1.trade_id) DESC LIMIT 1) AS most_active_investor,\n",
    "    (SELECT i.investor_id FROM SOURCE_DB.trades t1 JOIN SOURCE_DB.portfolios p ON t1.portfolio_id = p.portfolio_id JOIN SOURCE_DB.investors i ON p.investor_id = i.investor_id WHERE t1.stock_id = s.stock_id GROUP BY i.investor_id ORDER BY COUNT(t1.trade_id) ASC LIMIT 1) AS least_active_investor\n",
    "FROM \n",
    "    SOURCE_DB.market_data md\n",
    "JOIN \n",
    "    SOURCE_DB.stocks s ON md.stock_id = s.stock_id\n",
    "JOIN \n",
    "    SOURCE_DB.trades t ON s.stock_id = t.stock_id\n",
    "JOIN \n",
    "    SOURCE_DB.portfolios p ON t.portfolio_id = p.portfolio_id\n",
    "JOIN \n",
    "    SOURCE_DB.investors i ON p.investor_id = i.investor_id\n",
    "JOIN \n",
    "    SOURCE_DB.dividends d ON s.stock_id = d.stock_id\n",
    "GROUP BY \n",
    "    md.stock_id, s.ticker, s.sector;'''\n",
    "\n",
    "output = extract_subqueries(input_sql_query)\n",
    "print(output)"
   ]
  },
  {
   "cell_type": "code",
   "execution_count": 6,
   "metadata": {},
   "outputs": [
    {
     "data": {
      "text/plain": [
       "{'modified_SQL_query': 'INSERT INTO PROCESS_DB.market_data_analysis (\\n    stock_id, ticker, sector, total_volume_last_year, \\n    avg_closing_price_last_year, max_closing_price_last_year, \\n    min_closing_price_last_year, total_trades, avg_trade_value, \\n    max_trade_value, min_trade_value, total_dividends_paid, \\n    avg_dividend_yield, highest_volume_day, lowest_volume_day, \\n    most_recent_closing_price, total_investors, total_portfolios, \\n    most_active_investor, least_active_investor\\n)\\nSELECT \\n    md.stock_id, s.ticker, s.sector, \\n    SUM(md.volume) FILTER (WHERE md.market_date >= DATEADD(year, -1, GETDATE())) AS total_volume_last_year,\\n    AVG(md.closing_price) FILTER (WHERE md.market_date >= DATEADD(year, -1, GETDATE())) AS avg_closing_price_last_year,\\n    MAX(md.closing_price) FILTER (WHERE md.market_date >= DATEADD(year, -1, GETDATE())) AS max_closing_price_last_year,\\n    MIN(md.closing_price) FILTER (WHERE md.market_date >= DATEADD(year, -1, GETDATE())) AS min_closing_price_last_year,\\n    COUNT(t.trade_id) AS total_trades,\\n    AVG(t.quantity * t.price_per_share) AS avg_trade_value,\\n    MAX(t.quantity * t.price_per_share) AS max_trade_value,\\n    MIN(t.quantity * t.price_per_share) AS min_trade_value,\\n    SUM(d.dividend_amount * t.quantity) AS total_dividends_paid,\\n    AVG(CASE WHEN md.closing_price > 0 THEN d.dividend_amount / md.closing_price ELSE 0 END) AS avg_dividend_yield,\\n    subquery1 AS highest_volume_day,\\n    subquery2 AS lowest_volume_day,\\n    subquery3 AS most_recent_closing_price,\\n    COUNT(DISTINCT i.investor_id) AS total_investors,\\n    COUNT(DISTINCT p.portfolio_id) AS total_portfolios,\\n    (SELECT i.investor_id FROM SOURCE_DB.trades t1 JOIN SOURCE_DB.portfolios p ON t1.portfolio_id = p.portfolio_id JOIN SOURCE_DB.investors i ON p.investor_id = i.investor_id WHERE t1.stock_id = s.stock_id GROUP BY i.investor_id ORDER BY COUNT(t1.trade_id) DESC LIMIT 1) AS most_active_investor,\\n    (SELECT i.investor_id FROM SOURCE_DB.trades t1 JOIN SOURCE_DB.portfolios p ON t1.portfolio_id = p.portfolio_id JOIN SOURCE_DB.investors i ON p.investor_id = i.investor_id WHERE t1.stock_id = s.stock_id GROUP BY i.investor_id ORDER BY COUNT(t1.trade_id) ASC LIMIT 1) AS least_active_investor\\nFROM \\n    SOURCE_DB.market_data md\\nJOIN \\n    SOURCE_DB.stocks s ON md.stock_id = s.stock_id\\nJOIN \\n    SOURCE_DB.trades t ON s.stock_id = t.stock_id\\nJOIN \\n    SOURCE_DB.portfolios p ON t.portfolio_id = p.portfolio_id\\nJOIN \\n    SOURCE_DB.investors i ON p.investor_id = i.investor_id\\nJOIN \\n    SOURCE_DB.dividends d ON s.stock_id = d.stock_id\\nGROUP BY \\n    md.stock_id, s.ticker, s.sector;',\n",
       " 'subquery_dictionary': {'subquery1': '(SELECT md1.market_date FROM SOURCE_DB.market_data md1 WHERE md1.stock_id = md.stock_id ORDER BY md1.volume DESC LIMIT 1)',\n",
       "  'subquery2': '(SELECT md1.market_date FROM SOURCE_DB.market_data md1 WHERE md1.stock_id = md.stock_id ORDER BY md1.volume ASC LIMIT 1)',\n",
       "  'subquery3': '(SELECT md1.closing_price FROM SOURCE_DB.market_data md1 WHERE md1.stock_id = md.stock_id ORDER BY md1.market_date DESC LIMIT 1)'}}"
      ]
     },
     "execution_count": 6,
     "metadata": {},
     "output_type": "execute_result"
    }
   ],
   "source": [
    "output"
   ]
  },
  {
   "cell_type": "code",
   "execution_count": 4,
   "metadata": {},
   "outputs": [
    {
     "data": {
      "text/plain": [
       "{'modified_SQL_query': 'CREATE VIEW ORDER_RECONCILIATION AS\\nSELECT A.CustomerId, C.CustomerName,  COUNT( DISTINCT A.OrderId) TotalNBOrders, COUNT( DISTINCT A.InvoiceId) TotalNBInvoices,\\n       SUM(A.UnitPrice*A.Quantity)AS OrdersTotalValue,  SUM(A.UnitPriceI * A.QuantityI) AS InvoicesTotalValue,\\n       ABS(SUM(A.UnitPrice * A.Quantity) -  SUM(A.UnitPriceI*A.QuantityI)) AS AbsoluteValueDifference\\nFROM \\nsubquery1_2 AS A, Sales.Customers As C\\nWHERE A.CustomerID = C.CustomerID\\nGROUP BY A.CustomerID, C.CustomerName\\nORDER BY AbsoluteValueDifference DESC, TotalNBOrders, CustomerName;',\n",
       " 'subquery_dictionary': {'subquery1_1': '(   SELECT II.OrderId\\n        FROM Sales.Invoices AS II\\n        WHERE II.OrderID = O.OrderID\\n    )',\n",
       "  'subquery1_2': '(\\n    SELECT O.CustomerID, O.OrderId, NULL AS InvoiceID, OL.UnitPrice, OL.Quantity, 0 AS UnitPriceI, 0 AS QuantityI, OL.OrderLineID, NULL AS InvoiceLineID \\n    FROM Sales.Orders As O, Sales.OrderLines AS OL\\n    WHERE O.OrderId = OL.OrderID AND EXISTS\\n    subquery1_1\\n    UNION\\n    SELECT I.CustomerID, NULL AS OrderId, I.InvoiceID, 0 AS UnitPriceO, 0 AS QuantityO, IL.UnitPrice, IL.Quantity, NULL AS OrderLineID, InvoiceLineID\\n    FROM Sales.Invoices AS I, Sales.InvoiceLines AS IL\\n    WHERE I.InvoiceID = IL.InvoiceID\\n)'}}"
      ]
     },
     "execution_count": 4,
     "metadata": {},
     "output_type": "execute_result"
    }
   ],
   "source": [
    "import re\n",
    "\n",
    "def extract_subqueries(sql_query):\n",
    "    subquery_dict = {}\n",
    "    subquery_counter = {}\n",
    "    \n",
    "    def replace_subquery(match, level):\n",
    "        subquery_content = match.group(1)\n",
    "        if level not in subquery_counter:\n",
    "            subquery_counter[level] = 0\n",
    "        subquery_counter[level] += 1\n",
    "        subquery_label = f\"subquery{level}_{subquery_counter[level]}\"\n",
    "        subquery_dict[subquery_label] = f\"({subquery_content})\"\n",
    "        return subquery_label\n",
    "\n",
    "    def process_query(query, level=1):\n",
    "        subquery_pattern = re.compile(r'\\(([^()]*SELECT[^()]*FROM[^()]*)\\)', re.IGNORECASE)\n",
    "        \n",
    "        def replacer(match):\n",
    "            return replace_subquery(match, level)\n",
    "        \n",
    "        modified_query = subquery_pattern.sub(replacer, query)\n",
    "\n",
    "        # Process nested subqueries\n",
    "        while subquery_pattern.search(modified_query):\n",
    "            modified_query = subquery_pattern.sub(replacer, modified_query)\n",
    "        \n",
    "        return modified_query\n",
    "\n",
    "    modified_sql_query = process_query(sql_query)\n",
    "    \n",
    "    result_dict = {\n",
    "        'modified_SQL_query': modified_sql_query,\n",
    "        'subquery_dictionary': subquery_dict\n",
    "    }\n",
    "\n",
    "    return result_dict\n",
    "\n",
    "input_sql_query = '''CREATE VIEW ORDER_RECONCILIATION AS\n",
    "SELECT A.CustomerId, C.CustomerName,  COUNT( DISTINCT A.OrderId) TotalNBOrders, COUNT( DISTINCT A.InvoiceId) TotalNBInvoices,\n",
    "       SUM(A.UnitPrice*A.Quantity)AS OrdersTotalValue,  SUM(A.UnitPriceI * A.QuantityI) AS InvoicesTotalValue,\n",
    "       ABS(SUM(A.UnitPrice * A.Quantity) -  SUM(A.UnitPriceI*A.QuantityI)) AS AbsoluteValueDifference\n",
    "FROM \n",
    "(\n",
    "    SELECT O.CustomerID, O.OrderId, NULL AS InvoiceID, OL.UnitPrice, OL.Quantity, 0 AS UnitPriceI, 0 AS QuantityI, OL.OrderLineID, NULL AS InvoiceLineID \n",
    "    FROM Sales.Orders As O, Sales.OrderLines AS OL\n",
    "    WHERE O.OrderId = OL.OrderID AND EXISTS\n",
    "    (   SELECT II.OrderId\n",
    "        FROM Sales.Invoices AS II\n",
    "        WHERE II.OrderID = O.OrderID\n",
    "    )\n",
    "    UNION\n",
    "    SELECT I.CustomerID, NULL AS OrderId, I.InvoiceID, 0 AS UnitPriceO, 0 AS QuantityO, IL.UnitPrice, IL.Quantity, NULL AS OrderLineID, InvoiceLineID\n",
    "    FROM Sales.Invoices AS I, Sales.InvoiceLines AS IL\n",
    "    WHERE I.InvoiceID = IL.InvoiceID\n",
    ") AS A, Sales.Customers As C\n",
    "WHERE A.CustomerID = C.CustomerID\n",
    "GROUP BY A.CustomerID, C.CustomerName\n",
    "ORDER BY AbsoluteValueDifference DESC, TotalNBOrders, CustomerName;'''\n",
    "\n",
    "output = extract_subqueries(input_sql_query)\n",
    "output\n"
   ]
  },
  {
   "cell_type": "code",
   "execution_count": 5,
   "metadata": {},
   "outputs": [
    {
     "ename": "",
     "evalue": "",
     "output_type": "error",
     "traceback": [
      "\u001b[1;31mThe Kernel crashed while executing code in the current cell or a previous cell. \n",
      "\u001b[1;31mPlease review the code in the cell(s) to identify a possible cause of the failure. \n",
      "\u001b[1;31mClick <a href='https://aka.ms/vscodeJupyterKernelCrash'>here</a> for more info. \n",
      "\u001b[1;31mView Jupyter <a href='command:jupyter.viewOutput'>log</a> for further details."
     ]
    }
   ],
   "source": [
    "import re\n",
    "\n",
    "def extract_subqueries(sql_query):\n",
    "    subquery_dict = {}\n",
    "    subquery_counter = {}\n",
    "\n",
    "    def process_query(query, level=1):\n",
    "        subquery_pattern = re.compile(r'\\(([^()]*SELECT[^()]*FROM[^()]*)\\)', re.IGNORECASE)\n",
    "        \n",
    "        def replace_subquery(match):\n",
    "            nonlocal level\n",
    "            subquery_content = match.group(1)\n",
    "            if level not in subquery_counter:\n",
    "                subquery_counter[level] = 0\n",
    "            subquery_counter[level] += 1\n",
    "            subquery_label = f\"subquery{level}_{subquery_counter[level]}\"\n",
    "            subquery_dict[subquery_label] = f\"({subquery_content})\"\n",
    "            # Recursively process the nested subquery to capture any subqueries within it\n",
    "            subquery_dict[subquery_label] = process_query(subquery_dict[subquery_label], level + 1)\n",
    "            return subquery_label\n",
    "\n",
    "        modified_query = subquery_pattern.sub(replace_subquery, query)\n",
    "        return modified_query\n",
    "\n",
    "    modified_sql_query = process_query(sql_query)\n",
    "    \n",
    "    result_dict = {\n",
    "        'modified_SQL_query': modified_sql_query,\n",
    "        'subquery_dictionary': subquery_dict\n",
    "    }\n",
    "\n",
    "    return result_dict\n",
    "\n",
    "input_sql_query = '''CREATE VIEW ORDER_RECONCILIATION AS\n",
    "SELECT A.CustomerId, C.CustomerName,  COUNT( DISTINCT A.OrderId) TotalNBOrders, COUNT( DISTINCT A.InvoiceId) TotalNBInvoices,\n",
    "       SUM(A.UnitPrice*A.Quantity)AS OrdersTotalValue,  SUM(A.UnitPriceI * A.QuantityI) AS InvoicesTotalValue,\n",
    "       ABS(SUM(A.UnitPrice * A.Quantity) -  SUM(A.UnitPriceI*A.QuantityI)) AS AbsoluteValueDifference\n",
    "FROM \n",
    "(\n",
    "    SELECT O.CustomerID, O.OrderId, NULL AS InvoiceID, OL.UnitPrice, OL.Quantity, 0 AS UnitPriceI, 0 AS QuantityI, OL.OrderLineID, NULL AS InvoiceLineID \n",
    "    FROM Sales.Orders As O, Sales.OrderLines AS OL\n",
    "    WHERE O.OrderId = OL.OrderID AND EXISTS\n",
    "    (   SELECT II.OrderId\n",
    "        FROM Sales.Invoices AS II\n",
    "        WHERE II.OrderID = O.OrderID\n",
    "    )\n",
    "    UNION\n",
    "    SELECT I.CustomerID, NULL AS OrderId, I.InvoiceID, 0 AS UnitPriceO, 0 AS QuantityO, IL.UnitPrice, IL.Quantity, NULL AS OrderLineID, InvoiceLineID\n",
    "    FROM Sales.Invoices AS I, Sales.InvoiceLines AS IL\n",
    "    WHERE I.InvoiceID = IL.InvoiceID\n",
    ") AS A, Sales.Customers As C\n",
    "WHERE A.CustomerID = C.CustomerID\n",
    "GROUP BY A.CustomerID, C.CustomerName\n",
    "ORDER BY AbsoluteValueDifference DESC, TotalNBOrders, CustomerName;'''\n",
    "\n",
    "output = extract_subqueries(input_sql_query)\n",
    "print(output)\n"
   ]
  },
  {
   "cell_type": "code",
   "execution_count": null,
   "metadata": {},
   "outputs": [],
   "source": []
  }
 ],
 "metadata": {
  "kernelspec": {
   "display_name": "rabo",
   "language": "python",
   "name": "python3"
  },
  "language_info": {
   "codemirror_mode": {
    "name": "ipython",
    "version": 3
   },
   "file_extension": ".py",
   "mimetype": "text/x-python",
   "name": "python",
   "nbconvert_exporter": "python",
   "pygments_lexer": "ipython3",
   "version": "3.10.14"
  }
 },
 "nbformat": 4,
 "nbformat_minor": 2
}
