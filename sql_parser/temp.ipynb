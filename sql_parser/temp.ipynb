{
 "cells": [
  {
   "cell_type": "code",
   "execution_count": 25,
   "metadata": {},
   "outputs": [],
   "source": [
    "import json\n",
    "import re\n"
   ]
  },
  {
   "cell_type": "code",
   "execution_count": 100,
   "metadata": {},
   "outputs": [],
   "source": [
    "def sql_to_natural_language(sql_clause):\n",
    "    \"\"\"\n",
    "    Converts a SQL WHERE clause into a natural language explanation.\n",
    "\n",
    "    Parameters:\n",
    "        sql_where_clause (str): The SQL WHERE clause to be translated.\n",
    "\n",
    "    Returns:\n",
    "        str: The natural language explanation.\n",
    "    \"\"\"\n",
    "    # Replace common SQL syntax with natural language equivalents\n",
    "    replacements = [\n",
    "        (r\"NOT (.*?) IN \\((.*?)\\)\", r\"\\1 IS NOT ONE OF (\\2)\"),\n",
    "        (r\"IN \\((.*?)\\)\", r\"IS ONE OF (\\1)\"),\n",
    "        (r\"LIKE '%(.*?)%'\", r\"CONTAINS '\\1'\"),\n",
    "        (r\"LIKE '(.*?)%'\", r\"STARTS WITH '\\1'\"),\n",
    "        (r\"LIKE '%(.*?)'\", r\"ENDS WITH '\\1'\"),\n",
    "        (r\"LIKE (.*?)\", r\"CONTAINS \\1\"),\n",
    "        (r\"CAST\\((.*?) AS (.*?)\\)\", r\"(CONVERT \\1 TO \\2)\"),  # Handle CAST function\n",
    "        (r\"CASE WHEN (.*?) THEN (.*?) ELSE (.*?) END\", r\"IF \\1, THEN \\2, ELSE \\3\"),  # Handle CASE WHEN\n",
    "        (r\"COUNT\\(\\*\\)\", \"COUNTS ALL ROWS\"),  # Handle COUNT(*)\n",
    "        (r\"ISNULL\\((.*?), (.*?)\\)\", r\"IF \\1 IS NULL THEN \\2\")\n",
    "    ]\n",
    "    \n",
    "    natural_lang = sql_clause.strip()\n",
    "\n",
    "    for pattern, replacement in replacements:\n",
    "        natural_lang = re.sub(pattern, replacement, natural_lang, flags=re.IGNORECASE)\n",
    "        continue\n",
    "\n",
    "    return natural_lang"
   ]
  },
  {
   "cell_type": "code",
   "execution_count": 101,
   "metadata": {},
   "outputs": [],
   "source": [
    "sql = 'count(*)'\n",
    "\n",
    "#sql = \"WHERE (Level_4 = 'Fixed Rate Mortgages' AND Forward_Starting = 'FS' AND Funding_space_Component IN ('Basefundinginterest', 'Principal', 'Total Value') AND NOT market_shock IN ('Book Value', 'Face Amount', 'Net WAC', 'WAL_0')) OR (instrument_set = 'Mortgage Proposal' AND Funding_space_Component IN ('Basefundinginterest', 'Principal', 'Total Value') AND NOT market_shock IN ('Book Value', 'Face Amount', 'Net WAC', 'WAL_0')) AND (Portfolio LIKE '%OBV' OR Portfolio LIKE '%ABB')\"\n",
    "sql = \"WHERE (Level_4 = 'Fixed Rate Mortgages' AND instrumnet_set IN ('mortgage', 'offset mortgage') AND external_counterparty_segment = 'households' AND (market_shock LIKE '%SOT' OR market_shock LIKE '%EVEatR')) OR (Level_4 = 'Fixed Rate Mortgage Savings' AND instrument_set = 'mortgage savings' AND (market_shock LIKE '%SOT' OR market_shock LIKE '%EVEatR')) AND (Portfolio LIKE '%OBV' OR Portfolio LIKE '%ABB')\"\n",
    "sql = \"WHERE QRM.Run_Time_Description.CompanyName = @@User_doublecolumns_Comp_Name AND QRM.Run_Time_Description.Portfolio = @@User_doublecolumns_Port_current\"\n",
    "sql = \"WHERE 1 = 1 AND QRM.Run_Time_Description.Portfolio = @@User_doublecolumns_Port_current AND CAST(QRM.Run_Time_Description.Market AS DATE) = CAST(@@User_doublecolumns_Market_date AS DATE) AND QRM.Run_Time_Description.Strategy LIKE @@User_doublecolumns_Matchgap AND QRM.Run_Time_Description.CompanyName = @@User_doublecolumns_Comp_Name AND QRM.Run_Time_Description.DateTimeStamp = (subquery_1_Package\\select_res)\"\n",
    "sql = \"WHERE dbo.tbl_Product_parameter.Action_Take = 'Portdate' AND dbo.tbl_Product_parameter.Action_Take = 'ReportingDatabase' AND dbo.tbl_Product_parameter.Action_Take = 'ReportingServer' AND dbo.tbl_Product.Product_id = @@User_doublecolumns_Product AND dbo.tbl_Product.Period = @@User_doublecolumns_Period AND dbo.tbl_Product_file.File_id = @@User_doublecolumns_FileID\"\n",
    "sql = \"WHERE ((Level_04 = 'Fixed Rate Mortgages' AND Forward_Starting = 'FS' AND Funding_Component_Mapping_ID IN ('Base funding interest', 'Principal', 'Total Value')) OR (instrument_set = 'Mortgage Proposal' AND Funding_Component_Mapping_ID IN ('Base funding interest', 'Principal', 'Total Value'))) AND (Entity IN ('OBV', 'ABB'))\"\n",
    "sql = \"WHERE dbo.tbl_Product_parameter.Action_Take = 'Portdate' AND dbo.tbl_Product.Product_id = @@User_doublecolumns_Product AND dbo.tbl_Product.Period = @@User_doublecolumns_Period AND dbo.tbl_Product_file.File_id = @@User_doublecolumns_FileID AND dbo.tbl_Product_parameter.Action_Take = 'ReportingDatabase' AND dbo.tbl_Product_parameter.Action_Take = 'ReportingServer'\""
   ]
  },
  {
   "cell_type": "code",
   "execution_count": 102,
   "metadata": {},
   "outputs": [
    {
     "name": "stdout",
     "output_type": "stream",
     "text": [
      "WHERE dbo.tbl_Product_parameter.Action_Take = 'Portdate' AND dbo.tbl_Product.Product_id = @@User_doublecolumns_Product AND dbo.tbl_Product.Period = @@User_doublecolumns_Period AND dbo.tbl_Product_file.File_id = @@User_doublecolumns_FileID AND dbo.tbl_Product_parameter.Action_Take = 'ReportingDatabase' AND dbo.tbl_Product_parameter.Action_Take = 'ReportingServer'\n"
     ]
    },
    {
     "ename": "error",
     "evalue": "invalid group reference 2 at position 20",
     "output_type": "error",
     "traceback": [
      "\u001b[1;31m---------------------------------------------------------------------------\u001b[0m",
      "\u001b[1;31merror\u001b[0m                                     Traceback (most recent call last)",
      "Cell \u001b[1;32mIn[102], line 3\u001b[0m\n\u001b[0;32m      1\u001b[0m \u001b[38;5;28mprint\u001b[39m(sql)\n\u001b[1;32m----> 3\u001b[0m \u001b[38;5;28mprint\u001b[39m(\u001b[43msql_to_natural_language\u001b[49m\u001b[43m(\u001b[49m\u001b[43msql\u001b[49m\u001b[43m)\u001b[49m)\n",
      "Cell \u001b[1;32mIn[100], line 28\u001b[0m, in \u001b[0;36msql_to_natural_language\u001b[1;34m(sql_clause)\u001b[0m\n\u001b[0;32m     25\u001b[0m natural_lang \u001b[38;5;241m=\u001b[39m sql_clause\u001b[38;5;241m.\u001b[39mstrip()\n\u001b[0;32m     27\u001b[0m \u001b[38;5;28;01mfor\u001b[39;00m pattern, replacement \u001b[38;5;129;01min\u001b[39;00m replacements:\n\u001b[1;32m---> 28\u001b[0m     natural_lang \u001b[38;5;241m=\u001b[39m \u001b[43mre\u001b[49m\u001b[38;5;241;43m.\u001b[39;49m\u001b[43msub\u001b[49m\u001b[43m(\u001b[49m\u001b[43mpattern\u001b[49m\u001b[43m,\u001b[49m\u001b[43m \u001b[49m\u001b[43mreplacement\u001b[49m\u001b[43m,\u001b[49m\u001b[43m \u001b[49m\u001b[43mnatural_lang\u001b[49m\u001b[43m,\u001b[49m\u001b[43m \u001b[49m\u001b[43mflags\u001b[49m\u001b[38;5;241;43m=\u001b[39;49m\u001b[43mre\u001b[49m\u001b[38;5;241;43m.\u001b[39;49m\u001b[43mIGNORECASE\u001b[49m\u001b[43m)\u001b[49m\n\u001b[0;32m     29\u001b[0m     \u001b[38;5;28;01mcontinue\u001b[39;00m\n\u001b[0;32m     31\u001b[0m \u001b[38;5;28;01mreturn\u001b[39;00m natural_lang\n",
      "File \u001b[1;32mc:\\Users\\PietroGarroni\\anaconda3\\envs\\env\\lib\\re.py:209\u001b[0m, in \u001b[0;36msub\u001b[1;34m(pattern, repl, string, count, flags)\u001b[0m\n\u001b[0;32m    202\u001b[0m \u001b[38;5;28;01mdef\u001b[39;00m \u001b[38;5;21msub\u001b[39m(pattern, repl, string, count\u001b[38;5;241m=\u001b[39m\u001b[38;5;241m0\u001b[39m, flags\u001b[38;5;241m=\u001b[39m\u001b[38;5;241m0\u001b[39m):\n\u001b[0;32m    203\u001b[0m \u001b[38;5;250m    \u001b[39m\u001b[38;5;124;03m\"\"\"Return the string obtained by replacing the leftmost\u001b[39;00m\n\u001b[0;32m    204\u001b[0m \u001b[38;5;124;03m    non-overlapping occurrences of the pattern in string by the\u001b[39;00m\n\u001b[0;32m    205\u001b[0m \u001b[38;5;124;03m    replacement repl.  repl can be either a string or a callable;\u001b[39;00m\n\u001b[0;32m    206\u001b[0m \u001b[38;5;124;03m    if a string, backslash escapes in it are processed.  If it is\u001b[39;00m\n\u001b[0;32m    207\u001b[0m \u001b[38;5;124;03m    a callable, it's passed the Match object and must return\u001b[39;00m\n\u001b[0;32m    208\u001b[0m \u001b[38;5;124;03m    a replacement string to be used.\"\"\"\u001b[39;00m\n\u001b[1;32m--> 209\u001b[0m     \u001b[38;5;28;01mreturn\u001b[39;00m \u001b[43m_compile\u001b[49m\u001b[43m(\u001b[49m\u001b[43mpattern\u001b[49m\u001b[43m,\u001b[49m\u001b[43m \u001b[49m\u001b[43mflags\u001b[49m\u001b[43m)\u001b[49m\u001b[38;5;241;43m.\u001b[39;49m\u001b[43msub\u001b[49m\u001b[43m(\u001b[49m\u001b[43mrepl\u001b[49m\u001b[43m,\u001b[49m\u001b[43m \u001b[49m\u001b[43mstring\u001b[49m\u001b[43m,\u001b[49m\u001b[43m \u001b[49m\u001b[43mcount\u001b[49m\u001b[43m)\u001b[49m\n",
      "File \u001b[1;32mc:\\Users\\PietroGarroni\\anaconda3\\envs\\env\\lib\\re.py:326\u001b[0m, in \u001b[0;36m_subx\u001b[1;34m(pattern, template)\u001b[0m\n\u001b[0;32m    324\u001b[0m \u001b[38;5;28;01mdef\u001b[39;00m \u001b[38;5;21m_subx\u001b[39m(pattern, template):\n\u001b[0;32m    325\u001b[0m     \u001b[38;5;66;03m# internal: Pattern.sub/subn implementation helper\u001b[39;00m\n\u001b[1;32m--> 326\u001b[0m     template \u001b[38;5;241m=\u001b[39m \u001b[43m_compile_repl\u001b[49m\u001b[43m(\u001b[49m\u001b[43mtemplate\u001b[49m\u001b[43m,\u001b[49m\u001b[43m \u001b[49m\u001b[43mpattern\u001b[49m\u001b[43m)\u001b[49m\n\u001b[0;32m    327\u001b[0m     \u001b[38;5;28;01mif\u001b[39;00m \u001b[38;5;129;01mnot\u001b[39;00m template[\u001b[38;5;241m0\u001b[39m] \u001b[38;5;129;01mand\u001b[39;00m \u001b[38;5;28mlen\u001b[39m(template[\u001b[38;5;241m1\u001b[39m]) \u001b[38;5;241m==\u001b[39m \u001b[38;5;241m1\u001b[39m:\n\u001b[0;32m    328\u001b[0m         \u001b[38;5;66;03m# literal replacement\u001b[39;00m\n\u001b[0;32m    329\u001b[0m         \u001b[38;5;28;01mreturn\u001b[39;00m template[\u001b[38;5;241m1\u001b[39m][\u001b[38;5;241m0\u001b[39m]\n",
      "File \u001b[1;32mc:\\Users\\PietroGarroni\\anaconda3\\envs\\env\\lib\\re.py:317\u001b[0m, in \u001b[0;36m_compile_repl\u001b[1;34m(repl, pattern)\u001b[0m\n\u001b[0;32m    314\u001b[0m \u001b[38;5;129m@functools\u001b[39m\u001b[38;5;241m.\u001b[39mlru_cache(_MAXCACHE)\n\u001b[0;32m    315\u001b[0m \u001b[38;5;28;01mdef\u001b[39;00m \u001b[38;5;21m_compile_repl\u001b[39m(repl, pattern):\n\u001b[0;32m    316\u001b[0m     \u001b[38;5;66;03m# internal: compile replacement pattern\u001b[39;00m\n\u001b[1;32m--> 317\u001b[0m     \u001b[38;5;28;01mreturn\u001b[39;00m \u001b[43msre_parse\u001b[49m\u001b[38;5;241;43m.\u001b[39;49m\u001b[43mparse_template\u001b[49m\u001b[43m(\u001b[49m\u001b[43mrepl\u001b[49m\u001b[43m,\u001b[49m\u001b[43m \u001b[49m\u001b[43mpattern\u001b[49m\u001b[43m)\u001b[49m\n",
      "File \u001b[1;32mc:\\Users\\PietroGarroni\\anaconda3\\envs\\env\\lib\\sre_parse.py:1048\u001b[0m, in \u001b[0;36mparse_template\u001b[1;34m(source, state)\u001b[0m\n\u001b[0;32m   1046\u001b[0m             lappend(\u001b[38;5;28mchr\u001b[39m(c))\n\u001b[0;32m   1047\u001b[0m     \u001b[38;5;28;01mif\u001b[39;00m \u001b[38;5;129;01mnot\u001b[39;00m isoctal:\n\u001b[1;32m-> 1048\u001b[0m         \u001b[43maddgroup\u001b[49m\u001b[43m(\u001b[49m\u001b[38;5;28;43mint\u001b[39;49m\u001b[43m(\u001b[49m\u001b[43mthis\u001b[49m\u001b[43m[\u001b[49m\u001b[38;5;241;43m1\u001b[39;49m\u001b[43m:\u001b[49m\u001b[43m]\u001b[49m\u001b[43m)\u001b[49m\u001b[43m,\u001b[49m\u001b[43m \u001b[49m\u001b[38;5;28;43mlen\u001b[39;49m\u001b[43m(\u001b[49m\u001b[43mthis\u001b[49m\u001b[43m)\u001b[49m\u001b[43m \u001b[49m\u001b[38;5;241;43m-\u001b[39;49m\u001b[43m \u001b[49m\u001b[38;5;241;43m1\u001b[39;49m\u001b[43m)\u001b[49m\n\u001b[0;32m   1049\u001b[0m \u001b[38;5;28;01melse\u001b[39;00m:\n\u001b[0;32m   1050\u001b[0m     \u001b[38;5;28;01mtry\u001b[39;00m:\n",
      "File \u001b[1;32mc:\\Users\\PietroGarroni\\anaconda3\\envs\\env\\lib\\sre_parse.py:992\u001b[0m, in \u001b[0;36mparse_template.<locals>.addgroup\u001b[1;34m(index, pos)\u001b[0m\n\u001b[0;32m    990\u001b[0m \u001b[38;5;28;01mdef\u001b[39;00m \u001b[38;5;21maddgroup\u001b[39m(index, pos):\n\u001b[0;32m    991\u001b[0m     \u001b[38;5;28;01mif\u001b[39;00m index \u001b[38;5;241m>\u001b[39m state\u001b[38;5;241m.\u001b[39mgroups:\n\u001b[1;32m--> 992\u001b[0m         \u001b[38;5;28;01mraise\u001b[39;00m s\u001b[38;5;241m.\u001b[39merror(\u001b[38;5;124m\"\u001b[39m\u001b[38;5;124minvalid group reference \u001b[39m\u001b[38;5;132;01m%d\u001b[39;00m\u001b[38;5;124m\"\u001b[39m \u001b[38;5;241m%\u001b[39m index, pos)\n\u001b[0;32m    993\u001b[0m     \u001b[38;5;28;01mif\u001b[39;00m literal:\n\u001b[0;32m    994\u001b[0m         literals\u001b[38;5;241m.\u001b[39mappend(\u001b[38;5;124m'\u001b[39m\u001b[38;5;124m'\u001b[39m\u001b[38;5;241m.\u001b[39mjoin(literal))\n",
      "\u001b[1;31merror\u001b[0m: invalid group reference 2 at position 20"
     ]
    }
   ],
   "source": [
    "print(sql)\n",
    "\n",
    "print(sql_to_natural_language(sql))"
   ]
  },
  {
   "cell_type": "code",
   "execution_count": null,
   "metadata": {},
   "outputs": [],
   "source": []
  },
  {
   "cell_type": "code",
   "execution_count": null,
   "metadata": {},
   "outputs": [],
   "source": []
  }
 ],
 "metadata": {
  "kernelspec": {
   "display_name": "ssis-qrm",
   "language": "python",
   "name": "python3"
  },
  "language_info": {
   "codemirror_mode": {
    "name": "ipython",
    "version": 3
   },
   "file_extension": ".py",
   "mimetype": "text/x-python",
   "name": "python",
   "nbconvert_exporter": "python",
   "pygments_lexer": "ipython3",
   "version": "3.10.14"
  }
 },
 "nbformat": 4,
 "nbformat_minor": 2
}
