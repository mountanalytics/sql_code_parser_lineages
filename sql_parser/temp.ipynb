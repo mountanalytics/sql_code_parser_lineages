{
 "cells": [
  {
   "cell_type": "code",
   "execution_count": 25,
   "metadata": {},
   "outputs": [],
   "source": [
    "import json\n",
    "import re\n"
   ]
  },
  {
   "cell_type": "code",
   "execution_count": 103,
   "metadata": {},
   "outputs": [],
   "source": [
    "def sql_to_natural_language(sql_clause):\n",
    "    \"\"\"\n",
    "    Converts a SQL WHERE clause into a natural language explanation.\n",
    "\n",
    "    Parameters:\n",
    "        sql_where_clause (str): The SQL WHERE clause to be translated.\n",
    "\n",
    "    Returns:\n",
    "        str: The natural language explanation.\n",
    "    \"\"\"\n",
    "    # Replace common SQL syntax with natural language equivalents\n",
    "    replacements = [\n",
    "        (r\"NOT (.*?) IN \\((.*?)\\)\", r\"\\1 IS NOT ONE OF (\\2)\"),\n",
    "        (r\"IN \\((.*?)\\)\", r\"IS ONE OF (\\1)\"),\n",
    "        (r\"LIKE '%(.*?)%'\", r\"CONTAINS '\\1'\"),\n",
    "        (r\"LIKE '(.*?)%'\", r\"STARTS WITH '\\1'\"),\n",
    "        (r\"LIKE '%(.*?)'\", r\"ENDS WITH '\\1'\"),\n",
    "        (r\"LIKE (.*?)\", r\"CONTAINS \\1\"),\n",
    "        (r\"CAST\\((.*?) AS (.*?)\\)\", r\"(CONVERT \\1 TO \\2)\"),  # Handle CAST function\n",
    "        (r\"CASE WHEN (.*?) THEN (.*?) ELSE (.*?) END\", r\"IF \\1, THEN \\2, ELSE \\3\"),  # Handle CASE WHEN\n",
    "        (r\"COUNT\\(\\*\\)\", \"COUNTS ALL ROWS\"),  # Handle COUNT(*)\n",
    "        (r\"ISNULL\\((.*?), (.*?)\\)\", r\"IF \\1 IS NULL THEN \\2\")\n",
    "    ]\n",
    "    \n",
    "    natural_lang = sql_clause.strip()\n",
    "\n",
    "    for pattern, replacement in replacements:\n",
    "        natural_lang = re.sub(pattern, replacement, natural_lang, flags=re.IGNORECASE)\n",
    "        continue\n",
    "\n",
    "    return natural_lang"
   ]
  },
  {
   "cell_type": "code",
   "execution_count": 106,
   "metadata": {},
   "outputs": [],
   "source": [
    "sql = 'count(*)'\n",
    "\n",
    "sql = \"ISNULL(cfg.LKP_Counterparty.Intercompany_segment, 'LKP_error')\"\n",
    "\n",
    "#sql = \"WHERE (Level_4 = 'Fixed Rate Mortgages' AND Forward_Starting = 'FS' AND Funding_space_Component IN ('Basefundinginterest', 'Principal', 'Total Value') AND NOT market_shock IN ('Book Value', 'Face Amount', 'Net WAC', 'WAL_0')) OR (instrument_set = 'Mortgage Proposal' AND Funding_space_Component IN ('Basefundinginterest', 'Principal', 'Total Value') AND NOT market_shock IN ('Book Value', 'Face Amount', 'Net WAC', 'WAL_0')) AND (Portfolio LIKE '%OBV' OR Portfolio LIKE '%ABB')\"\n",
    "#sql = \"WHERE (Level_4 = 'Fixed Rate Mortgages' AND instrumnet_set IN ('mortgage', 'offset mortgage') AND external_counterparty_segment = 'households' AND (market_shock LIKE '%SOT' OR market_shock LIKE '%EVEatR')) OR (Level_4 = 'Fixed Rate Mortgage Savings' AND instrument_set = 'mortgage savings' AND (market_shock LIKE '%SOT' OR market_shock LIKE '%EVEatR')) AND (Portfolio LIKE '%OBV' OR Portfolio LIKE '%ABB')\"\n",
    "#sql = \"WHERE QRM.Run_Time_Description.CompanyName = @@User_doublecolumns_Comp_Name AND QRM.Run_Time_Description.Portfolio = @@User_doublecolumns_Port_current\"\n",
    "#sql = \"WHERE 1 = 1 AND QRM.Run_Time_Description.Portfolio = @@User_doublecolumns_Port_current AND CAST(QRM.Run_Time_Description.Market AS DATE) = CAST(@@User_doublecolumns_Market_date AS DATE) AND QRM.Run_Time_Description.Strategy LIKE @@User_doublecolumns_Matchgap AND QRM.Run_Time_Description.CompanyName = @@User_doublecolumns_Comp_Name AND QRM.Run_Time_Description.DateTimeStamp = (subquery_1_Package\\select_res)\"\n",
    "#sql = \"WHERE dbo.tbl_Product_parameter.Action_Take = 'Portdate' AND dbo.tbl_Product_parameter.Action_Take = 'ReportingDatabase' AND dbo.tbl_Product_parameter.Action_Take = 'ReportingServer' AND dbo.tbl_Product.Product_id = @@User_doublecolumns_Product AND dbo.tbl_Product.Period = @@User_doublecolumns_Period AND dbo.tbl_Product_file.File_id = @@User_doublecolumns_FileID\"\n",
    "#sql = \"WHERE ((Level_04 = 'Fixed Rate Mortgages' AND Forward_Starting = 'FS' AND Funding_Component_Mapping_ID IN ('Base funding interest', 'Principal', 'Total Value')) OR (instrument_set = 'Mortgage Proposal' AND Funding_Component_Mapping_ID IN ('Base funding interest', 'Principal', 'Total Value'))) AND (Entity IN ('OBV', 'ABB'))\"\n",
    "#sql = \"WHERE dbo.tbl_Product_parameter.Action_Take = 'Portdate' AND dbo.tbl_Product.Product_id = @@User_doublecolumns_Product AND dbo.tbl_Product.Period = @@User_doublecolumns_Period AND dbo.tbl_Product_file.File_id = @@User_doublecolumns_FileID AND dbo.tbl_Product_parameter.Action_Take = 'ReportingDatabase' AND dbo.tbl_Product_parameter.Action_Take = 'ReportingServer'\""
   ]
  },
  {
   "cell_type": "code",
   "execution_count": 107,
   "metadata": {},
   "outputs": [
    {
     "name": "stdout",
     "output_type": "stream",
     "text": [
      "ISNULL(cfg.LKP_Counterparty.Intercompany_segment, 'LKP_error')\n",
      "IF cfg.LKP_Counterparty.Intercompany_segment IS NULL THEN 'LKP_error'\n"
     ]
    }
   ],
   "source": [
    "print(sql)\n",
    "\n",
    "print(sql_to_natural_language(sql))"
   ]
  },
  {
   "cell_type": "code",
   "execution_count": null,
   "metadata": {},
   "outputs": [],
   "source": []
  },
  {
   "cell_type": "code",
   "execution_count": 109,
   "metadata": {},
   "outputs": [
    {
     "name": "stdout",
     "output_type": "stream",
     "text": [
      "['SELECT column1', 'alias1']\n",
      "['SELECT column1 AS alias1, column2', 'alias2']\n",
      "['SELECT column1, column2']\n"
     ]
    }
   ],
   "source": [
    "def split_on_as(input_string):\n",
    "    # Check if \"AS\" exists in the string\n",
    "    if ' AS ' in input_string:\n",
    "        # Split on the last occurrence of \"AS\"\n",
    "        parts = input_string.rsplit(' AS ', 1)\n",
    "    else:\n",
    "        # If no \"AS\" is found, keep the string as is\n",
    "        parts = [input_string]\n",
    "    return parts\n",
    "\n",
    "# Example Usage\n",
    "example1 = \"SELECT column1 AS alias1\"\n",
    "example2 = \"SELECT column1 AS alias1, column2 AS alias2\"\n",
    "example3 = \"SELECT column1, column2\"\n",
    "\n",
    "print(split_on_as(example1))  # ['SELECT column1', 'alias1']\n",
    "print(split_on_as(example2))  # ['SELECT column1 AS alias1, column2', 'alias2']\n",
    "print(split_on_as(example3))  # ['SELECT column1, column2']\n",
    "\n"
   ]
  },
  {
   "cell_type": "code",
   "execution_count": null,
   "metadata": {},
   "outputs": [],
   "source": []
  }
 ],
 "metadata": {
  "kernelspec": {
   "display_name": "ssis-qrm",
   "language": "python",
   "name": "python3"
  },
  "language_info": {
   "codemirror_mode": {
    "name": "ipython",
    "version": 3
   },
   "file_extension": ".py",
   "mimetype": "text/x-python",
   "name": "python",
   "nbconvert_exporter": "python",
   "pygments_lexer": "ipython3",
   "version": "3.10.14"
  }
 },
 "nbformat": 4,
 "nbformat_minor": 2
}
