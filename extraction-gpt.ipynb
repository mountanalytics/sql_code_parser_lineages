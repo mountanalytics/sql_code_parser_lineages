{
 "cells": [
  {
   "cell_type": "code",
   "execution_count": 5,
   "metadata": {},
   "outputs": [],
   "source": [
    "import pandas as pd\n",
    "import openai\n",
    "import json\n",
    "import os\n",
    "from openai import OpenAI\n",
    "import re\n",
    "\n",
    "client = OpenAI(\n",
    "    # This is the default and can be omitted\n",
    "    api_key=os.getenv('OPENAI_KEY'),\n",
    ")"
   ]
  },
  {
   "cell_type": "code",
   "execution_count": 6,
   "metadata": {},
   "outputs": [
    {
     "data": {
      "text/plain": [
       "[\"CREATE VIEW CUSTOMER_ORDER AS SELECT c.customer_id, c.first_name, c.last_name, c.email, recent_orders.order_id, recent_orders.order_date, recent_orders.total_order_amount, recent_payments.total_payment_amount, recent_order_items.product_name, recent_order_items.category_name, recent_order_items.quantity, recent_order_items.unit_price, recent_order_items.total_item_amount, CAST(avg_product_rating.avg_rating AS DECIMAL(3,2)) AS avg_product_rating, CAST(total_customer_spend.total_spent AS DECIMAL(10,2)) AS total_customer_spent FROM customers c JOIN ( SELECT o.order_id, o.customer_id, o.order_date, o.total_amount AS total_order_amount FROM orders o WHERE o.order_date >= DATEADD(month, -1, GETDATE()) AND o.status = 'Completed' ) recent_orders ON c.customer_id = recent_orders.customer_id JOIN ( SELECT p.order_id, SUM(p.payment_amount) AS total_payment_amount FROM payments p GROUP BY p.order_id ) recent_payments ON recent_orders.order_id = recent_payments.order_id JOIN ( SELECT oi.order_id, p.product_name, cat.category_name, oi.quantity, oi.unit_price, (oi.quantity * oi.unit_price) AS total_item_amount FROM order_items oi JOIN products p ON oi.product_id = p.product_id JOIN categories cat ON p.category_id = cat.category_id ) recent_order_items ON recent_orders.order_id = recent_order_items.order_id JOIN ( SELECT r.product_id, AVG(r.rating) AS avg_rating FROM reviews r GROUP BY r.product_id ) avg_product_rating ON recent_order_items.product_id = avg_product_rating.product_id JOIN ( SELECT o.customer_id, SUM(o.total_amount) AS total_spent FROM orders o WHERE o.status = 'Completed' GROUP BY o.customer_id ) total_customer_spend ON c.customer_id = total_customer_spend.customer_id WHERE c.signup_date <= DATEADD(month, -1, GETDATE()) ORDER BY c.customer_id, recent_orders.order_date\",\n",
       " 'CREATE VIEW CUSTOMER_BANK_DETAILS AS SELECT c.customer_id, c.first_name, c.last_name, c.email, a.account_id, a.balance, at.account_type_name, b.branch_name, b.branch_city, recent_transactions.total_transactions_amount, l.loan_id, l.loan_amount, l.interest_rate, CAST(total_interest_paid.total_interest AS DECIMAL(10,2)) AS total_interest_paid FROM customers c JOIN accounts a ON c.customer_id = a.customer_id JOIN account_types at ON a.account_type_id = at.account_type_id JOIN branches b ON a.branch_id = b.branch_id JOIN ( SELECT t.account_id, SUM(t.amount) AS total_transactions_amount FROM transactions t WHERE t.transaction_date >= DATEADD(month, -1, GETDATE()) GROUP BY t.account_id ) recent_transactions ON a.account_id = recent_transactions.account_id JOIN loans l ON c.customer_id = l.customer_id JOIN ( SELECT p.loan_id, SUM(p.payment_amount * (l.interest_rate / 100 / 12)) AS total_interest FROM payments p JOIN loans l ON p.loan_id = l.loan_id WHERE l.end_date >= GETDATE() GROUP BY p.loan_id, l.interest_rate ) total_interest_paid ON l.loan_id = total_interest_paid.loan_id WHERE c.join_date <= DATEADD(year, -1, GETDATE()) ORDER BY c.customer_id, a.account_id',\n",
       " 'CREATE VIEW INVESTOR_OVERVIEW AS SELECT i.investor_id, i.first_name, i.last_name, i.email, p.portfolio_id, p.portfolio_name, recent_trades.trade_id, recent_trades.trade_date, recent_trades.ticker, recent_trades.company_name, recent_trades.trade_type, recent_trades.quantity, recent_trades.price_per_share, recent_trades.total_trade_value, CAST(dividends_received.total_dividends AS DECIMAL(10,2)) AS total_dividends, CAST(average_performance.avg_performance AS DECIMAL(10,2)) AS average_performance, CAST(total_investment.total_value AS DECIMAL(10,2)) AS total_investment_value FROM investors i JOIN portfolios p ON i.investor_id = p.investor_id JOIN ( SELECT t.trade_id, t.portfolio_id, s.ticker, s.company_name, t.trade_date, t.trade_type, t.quantity, t.price_per_share, (t.quantity * t.price_per_share) AS total_trade_value FROM trades t JOIN stocks s ON t.stock_id = s.stock_id WHERE t.trade_date >= DATEADD(month, -1, GETDATE()) ) recent_trades ON p.portfolio_id = recent_trades.portfolio_id JOIN ( SELECT t.portfolio_id, SUM(d.dividend_amount * t.quantity) AS total_dividends FROM trades t JOIN dividends d ON t.stock_id = d.stock_id WHERE d.dividend_date >= DATEADD(year, -1, GETDATE()) GROUP BY t.portfolio_id ) dividends_received ON p.portfolio_id = dividends_received.portfolio_id JOIN ( SELECT t.portfolio_id, AVG(md.closing_price) AS avg_performance FROM trades t JOIN market_data md ON t.stock_id = md.stock_id WHERE md.market_date >= DATEADD(year, -1, GETDATE()) GROUP BY t.portfolio_id ) average_performance ON p.portfolio_id = average_performance.portfolio_id JOIN ( SELECT t.portfolio_id, SUM(t.quantity * md.closing_price) AS total_value FROM trades t JOIN market_data md ON t.stock_id = md.stock_id WHERE md.market_date = (SELECT MAX(market_date) FROM market_data) GROUP BY t.portfolio_id ) total_investment ON p.portfolio_id = total_investment.portfolio_id WHERE i.join_date <= DATEADD(year, -1, GETDATE()) ORDER BY i.investor_id, p.portfolio_id',\n",
       " 'CREATE VIEW CUSTOMER_SUBSCRIPTION_DETAILS AS SELECT c.customer_id, c.first_name, c.last_name, c.email, sub.subscription_id, sub.subscription_date, sub.plan_name, sub.plan_cost, sub.plan_duration, CAST(total_spend.total_spent AS DECIMAL(10,2)) AS total_spent, recent_payments.payment_date, recent_payments.payment_amount, sub_plan.plan_features, CAST(avg_review_rating.avg_rating AS DECIMAL(3,2)) AS avg_review_rating FROM customers c JOIN subscriptions sub ON c.customer_id = sub.customer_id JOIN ( SELECT p.subscription_id, SUM(p.payment_amount) AS total_spent FROM payments p GROUP BY p.subscription_id ) total_spend ON sub.subscription_id = total_spend.subscription_id JOIN ( SELECT p.subscription_id, p.payment_date, p.payment_amount FROM payments p WHERE p.payment_date >= DATEADD(month, -1, GETDATE()) ) recent_payments ON sub.subscription_id = recent_payments.subscription_id JOIN subscription_plans sub_plan ON sub.plan_id = sub_plan.plan_id JOIN ( SELECT r.subscription_id, AVG(r.rating) AS avg_rating FROM subscription_reviews r GROUP BY r.subscription_id ) avg_review_rating ON sub.subscription_id = avg_review_rating.subscription_id WHERE c.signup_date <= DATEADD(month, -1, GETDATE()) ORDER BY c.customer_id, sub.subscription_date',\n",
       " 'CREATE VIEW VENDOR_PERFORMANCE_ANALYSIS AS SELECT v.vendor_id, v.vendor_name, v.contact_email, recent_deliveries.delivery_id, recent_deliveries.delivery_date, recent_deliveries.total_amount, product_summary.product_name, product_summary.category_name, product_summary.unit_price, product_summary.quantity_delivered, CAST(avg_product_rating.avg_rating AS DECIMAL(3,2)) AS avg_product_rating, CAST(total_spent.total_spent AS DECIMAL(10,2)) AS total_spent FROM vendors v JOIN ( SELECT d.vendor_id, d.delivery_id, d.delivery_date, d.total_amount FROM deliveries d WHERE d.delivery_date >= DATEADD(month, -1, GETDATE()) ) recent_deliveries ON v.vendor_id = recent_deliveries.vendor_id JOIN ( SELECT d.delivery_id, p.product_name, c.category_name, di.unit_price, di.quantity_delivered FROM delivery_items di JOIN products p ON di.product_id = p.product_id JOIN categories c ON p.category_id = c.category_id ) product_summary ON recent_deliveries.delivery_id = product_summary.delivery_id JOIN ( SELECT r.product_id, AVG(r.rating) AS avg_rating FROM product_reviews r GROUP BY r.product_id ) avg_product_rating ON product_summary.product_id = avg_product_rating.product_id JOIN ( SELECT d.vendor_id, SUM(d.total_amount) AS total_spent FROM deliveries d GROUP BY d.vendor_id ) total_spent ON v.vendor_id = total_spent.vendor_id WHERE v.contract_start_date <= DATEADD(year, -1, GETDATE()) ORDER BY v.vendor_id, recent_deliveries.delivery_date']"
      ]
     },
     "execution_count": 6,
     "metadata": {},
     "output_type": "execute_result"
    }
   ],
   "source": [
    "# open queries file\n",
    "\n",
    "with open('data/queries-txts/chatgpt_queries2.txt', 'r') as file:\n",
    "    file = file.read().strip().split(';')\n",
    "    sql_queries = [re.sub(r'\\s+', ' ', query.strip().replace('\\n', ' ').replace('\\t', ' ')) for query in file if query.strip()]\n",
    "    \n",
    "sql_queries"
   ]
  },
  {
   "cell_type": "code",
   "execution_count": 3,
   "metadata": {},
   "outputs": [],
   "source": [
    "\n",
    "def get_gpt_response(prompt, model=\"gpt-3.5-turbo\"):\n",
    "    response = client.chat.completions.create(\n",
    "        model=model,\n",
    "        temperature = 0,\n",
    "        messages=[\n",
    "            {\"role\": \"system\", \"content\": \"You are an SQL expert. Help with the best of your capabilities whatever problem is presented.\"},\n",
    "            {\"role\": \"user\", \"content\": prompt},\n",
    "        ]\n",
    "    )\n",
    "    \n",
    "    return response.choices[0].message.content\n",
    "\n",
    "def parse_sql_to_json(response):\n",
    "\n",
    "    try:\n",
    "        # Convert the response to JSON format\n",
    "        parsed_json = json.loads(response)\n",
    "    except json.JSONDecodeError as e:\n",
    "        print(f\"Failed to parse the response as JSON. Error: {e}\")\n",
    "        return None\n",
    "    \n",
    "    return parsed_json\n"
   ]
  },
  {
   "cell_type": "code",
   "execution_count": 4,
   "metadata": {},
   "outputs": [
    {
     "name": "stdout",
     "output_type": "stream",
     "text": [
      "In the SQL query, extract all the subqueries and nested subqueries, \n",
      "    replace them with a temporary table name (e.g.: subquery1, subquery2...).\n",
      "    Save the content of the subqueries in a separate dictionary (e.g.: {'subquery1': 'select * from A', 'subquery2': 'select c from B', ...}).\n",
      "    Your response shoulf therefore contain two objects: the modified SQL query and the dictionary containing the subqueries content.\n",
      "    The query is:\n",
      "\n",
      "1\"\n",
      "\n"
     ]
    }
   ],
   "source": [
    "# gpt prompts\n",
    "\n",
    "# get json tree\n",
    "prompt =\"\"\"\n",
    "        I need to convert an SQL query into a structured JSON file. The JSON file should capture all the details contained in the SQL query, including but not limited to:\n",
    "        1. SQL Query Structure: Tables, columns, joins, conditions, grouping, ordering, subqueries and any other SQL constructs.\n",
    "        2. Metadata: Aliases, table names, column names, subquery names and any other relevant metadata.\n",
    "        3. Query Details: SELECT statements, WHERE clauses, GROUP BY clauses, ORDER BY clauses, and any subqueries.\n",
    "        The JSON format should be precise and error-free. Your response should only contain the json tree.\n",
    "        The query is:\\n\\n{sql_query}\"\n",
    "\"\"\"\n",
    "\n",
    "# extract subqueries\n",
    "\n",
    "prompt = \"\"\"From the SQL query, extract all the subqueries and nested subqueries, \n",
    "replace them with a temporary table name (e.g.: subquery1, subquery2...).\n",
    "Save the content of the subqueries in a separate dictionary (e.g.: {subquery1: 'select * from A', subquery2: 'select c from B', ...}).\n",
    "Your response shoulf therefore contain two objects: the modified SQL query and the dictionary containing the subqueries content.\n",
    "The query is:\\n\\n{sql_query}\"\n",
    "\"\"\"\n",
    "sql_query = '1'\n",
    "prompt = f\"\"\"In the SQL query, extract all the subqueries and nested subqueries, \n",
    "    replace them with a temporary table name (e.g.: subquery1, subquery2...).\n",
    "    Save the content of the subqueries in a separate dictionary (e.g.: {{'subquery1': 'select * from A', 'subquery2': 'select c from B', ...}}).\n",
    "    Your response shoulf therefore contain two objects: the modified SQL query and the dictionary containing the subqueries content.\n",
    "    The query is:\\n\\n{sql_query}\"\n",
    "\"\"\"\n",
    "print(prompt)"
   ]
  },
  {
   "cell_type": "code",
   "execution_count": 5,
   "metadata": {},
   "outputs": [],
   "source": [
    "if __name__ == \"__main__\":\n",
    "    responses= []\n",
    "    for i, sql_query in enumerate(sql_queries):\n",
    "        prompt = f\"\"\"In the SQL query, follow the steps:\n",
    "            1. extract all the subqueries, \n",
    "            2. replace them with a temporary table name (e.g.: subquery1_1, subquery1_2...).\n",
    "            3. Save the content of the subqueries in a separate dictionary (e.g.: subquery_dictionary = {{'subquery1_1': 'select * from A', 'subquery1_2': 'select c from B'...}}).\n",
    "            4. Iterate through the subquery_dictionary values and, if the subquery is not in an EXISTS() function, extract the nested subqueries in the subqueries,\n",
    "            5. Replace the nested subqueries with a temporary table name (e.g.: subquery2_1, subquery2_2...) in the subquery_dictionary\n",
    "            6. Add the content to the subquery_dictionary.\n",
    "            7. Repeat steps 4, 5 and 6 until no more nested subqueries are present in the subquery_dictionary values.\n",
    "\n",
    "            Your response should therefore contain a dictionary with two objects: the modified SQL_query which is a string and the dictionary containing the subqueries content. Your response should only contain the requested data, no extra words needed.\n",
    "            The query is:\\n\\n{sql_query}\"\n",
    "        \"\"\"\n",
    "        response = get_gpt_response(prompt, 'gpt-4o')\n",
    "        responses.append(response)\n"
   ]
  },
  {
   "cell_type": "code",
   "execution_count": 7,
   "metadata": {},
   "outputs": [
    {
     "name": "stdout",
     "output_type": "stream",
     "text": [
      "{'modified_SQL_query': 'CREATE VIEW CUSTOMER_ORDER AS SELECT c.customer_id, c.first_name, c.last_name, c.email, recent_orders.order_id, recent_orders.order_date, recent_orders.total_order_amount, recent_payments.total_payment_amount, recent_order_items.product_name, recent_order_items.category_name, recent_order_items.quantity, recent_order_items.unit_price, recent_order_items.total_item_amount, CAST(avg_product_rating.avg_rating AS DECIMAL(3,2)) AS avg_product_rating, CAST(total_customer_spend.total_spent AS DECIMAL(10,2)) AS total_customer_spent FROM customers c JOIN subquery1_1 recent_orders ON c.customer_id = recent_orders.customer_id JOIN subquery1_2 recent_payments ON recent_orders.order_id = recent_payments.order_id JOIN subquery1_3 recent_order_items ON recent_orders.order_id = recent_order_items.order_id JOIN subquery1_4 avg_product_rating ON recent_order_items.product_id = avg_product_rating.product_id JOIN subquery1_5 total_customer_spend ON c.customer_id = total_customer_spend.customer_id WHERE c.signup_date <= DATEADD(month, -1, GETDATE()) ORDER BY c.customer_id, recent_orders.order_date', 'subquery_dictionary': {'subquery1_1': \"SELECT o.order_id, o.customer_id, o.order_date, o.total_amount AS total_order_amount FROM orders o WHERE o.order_date >= DATEADD(month, -1, GETDATE()) AND o.status = 'Completed'\", 'subquery1_2': 'SELECT p.order_id, SUM(p.payment_amount) AS total_payment_amount FROM payments p GROUP BY p.order_id', 'subquery1_3': 'SELECT oi.order_id, p.product_name, cat.category_name, oi.quantity, oi.unit_price, (oi.quantity * oi.unit_price) AS total_item_amount FROM order_items oi JOIN products p ON oi.product_id = p.product_id JOIN categories cat ON p.category_id = cat.category_id', 'subquery1_4': 'SELECT r.product_id, AVG(r.rating) AS avg_rating FROM reviews r GROUP BY r.product_id', 'subquery1_5': \"SELECT o.customer_id, SUM(o.total_amount) AS total_spent FROM orders o WHERE o.status = 'Completed' GROUP BY o.customer_id\"}}\n",
      "Dictionary saved as gpt-sql-queries-extracted3/json_data0.json\n",
      "{'modified_SQL_query': 'CREATE VIEW CUSTOMER_BANK_DETAILS AS SELECT c.customer_id, c.first_name, c.last_name, c.email, a.account_id, a.balance, at.account_type_name, b.branch_name, b.branch_city, recent_transactions.total_transactions_amount, l.loan_id, l.loan_amount, l.interest_rate, CAST(total_interest_paid.total_interest AS DECIMAL(10,2)) AS total_interest_paid FROM customers c JOIN accounts a ON c.customer_id = a.customer_id JOIN account_types at ON a.account_type_id = at.account_type_id JOIN branches b ON a.branch_id = b.branch_id JOIN subquery1_1 recent_transactions ON a.account_id = recent_transactions.account_id JOIN loans l ON c.customer_id = l.customer_id JOIN subquery1_2 total_interest_paid ON l.loan_id = total_interest_paid.loan_id WHERE c.join_date <= DATEADD(year, -1, GETDATE()) ORDER BY c.customer_id, a.account_id', 'subquery_dictionary': {'subquery1_1': 'SELECT t.account_id, SUM(t.amount) AS total_transactions_amount FROM transactions t WHERE t.transaction_date >= DATEADD(month, -1, GETDATE()) GROUP BY t.account_id', 'subquery1_2': 'SELECT p.loan_id, SUM(p.payment_amount * (l.interest_rate / 100 / 12)) AS total_interest FROM payments p JOIN loans l ON p.loan_id = l.loan_id WHERE l.end_date >= GETDATE() GROUP BY p.loan_id, l.interest_rate'}}\n",
      "Dictionary saved as gpt-sql-queries-extracted3/json_data1.json\n",
      "{'modified_SQL_query': 'CREATE VIEW INVESTOR_OVERVIEW AS SELECT i.investor_id, i.first_name, i.last_name, i.email, p.portfolio_id, p.portfolio_name, recent_trades.trade_id, recent_trades.trade_date, recent_trades.ticker, recent_trades.company_name, recent_trades.trade_type, recent_trades.quantity, recent_trades.price_per_share, recent_trades.total_trade_value, CAST(dividends_received.total_dividends AS DECIMAL(10,2)) AS total_dividends, CAST(average_performance.avg_performance AS DECIMAL(10,2)) AS average_performance, CAST(total_investment.total_value AS DECIMAL(10,2)) AS total_investment_value FROM investors i JOIN portfolios p ON i.investor_id = p.investor_id JOIN subquery1_1 recent_trades ON p.portfolio_id = recent_trades.portfolio_id JOIN subquery1_2 dividends_received ON p.portfolio_id = dividends_received.portfolio_id JOIN subquery1_3 average_performance ON p.portfolio_id = average_performance.portfolio_id JOIN subquery1_4 total_investment ON p.portfolio_id = total_investment.portfolio_id WHERE i.join_date <= DATEADD(year, -1, GETDATE()) ORDER BY i.investor_id, p.portfolio_id', 'subquery_dictionary': {'subquery1_1': 'SELECT t.trade_id, t.portfolio_id, s.ticker, s.company_name, t.trade_date, t.trade_type, t.quantity, t.price_per_share, (t.quantity * t.price_per_share) AS total_trade_value FROM trades t JOIN stocks s ON t.stock_id = s.stock_id WHERE t.trade_date >= DATEADD(month, -1, GETDATE())', 'subquery1_2': 'SELECT t.portfolio_id, SUM(d.dividend_amount * t.quantity) AS total_dividends FROM trades t JOIN dividends d ON t.stock_id = d.stock_id WHERE d.dividend_date >= DATEADD(year, -1, GETDATE()) GROUP BY t.portfolio_id', 'subquery1_3': 'SELECT t.portfolio_id, AVG(md.closing_price) AS avg_performance FROM trades t JOIN market_data md ON t.stock_id = md.stock_id WHERE md.market_date >= DATEADD(year, -1, GETDATE()) GROUP BY t.portfolio_id', 'subquery1_4': 'SELECT t.portfolio_id, SUM(t.quantity * md.closing_price) AS total_value FROM trades t JOIN market_data md ON t.stock_id = md.stock_id WHERE md.market_date = (SELECT MAX(market_date) FROM market_data) GROUP BY t.portfolio_id', 'subquery2_1': 'SELECT MAX(market_date) FROM market_data'}}\n",
      "Dictionary saved as gpt-sql-queries-extracted3/json_data2.json\n",
      "{'modified_SQL_query': 'CREATE VIEW CUSTOMER_SUBSCRIPTION_DETAILS AS SELECT c.customer_id, c.first_name, c.last_name, c.email, sub.subscription_id, sub.subscription_date, sub.plan_name, sub.plan_cost, sub.plan_duration, CAST(total_spend.total_spent AS DECIMAL(10,2)) AS total_spent, recent_payments.payment_date, recent_payments.payment_amount, sub_plan.plan_features, CAST(avg_review_rating.avg_rating AS DECIMAL(3,2)) AS avg_review_rating FROM customers c JOIN subscriptions sub ON c.customer_id = sub.customer_id JOIN subquery1_1 total_spend ON sub.subscription_id = total_spend.subscription_id JOIN subquery1_2 recent_payments ON sub.subscription_id = recent_payments.subscription_id JOIN subscription_plans sub_plan ON sub.plan_id = sub_plan.plan_id JOIN subquery1_3 avg_review_rating ON sub.subscription_id = avg_review_rating.subscription_id WHERE c.signup_date <= DATEADD(month, -1, GETDATE()) ORDER BY c.customer_id, sub.subscription_date', 'subquery_dictionary': {'subquery1_1': 'SELECT p.subscription_id, SUM(p.payment_amount) AS total_spent FROM payments p GROUP BY p.subscription_id', 'subquery1_2': 'SELECT p.subscription_id, p.payment_date, p.payment_amount FROM payments p WHERE p.payment_date >= DATEADD(month, -1, GETDATE())', 'subquery1_3': 'SELECT r.subscription_id, AVG(r.rating) AS avg_rating FROM subscription_reviews r GROUP BY r.subscription_id'}}\n",
      "Dictionary saved as gpt-sql-queries-extracted3/json_data3.json\n",
      "{'modified_SQL_query': 'CREATE VIEW VENDOR_PERFORMANCE_ANALYSIS AS SELECT v.vendor_id, v.vendor_name, v.contact_email, recent_deliveries.delivery_id, recent_deliveries.delivery_date, recent_deliveries.total_amount, product_summary.product_name, product_summary.category_name, product_summary.unit_price, product_summary.quantity_delivered, CAST(avg_product_rating.avg_rating AS DECIMAL(3,2)) AS avg_product_rating, CAST(total_spent.total_spent AS DECIMAL(10,2)) AS total_spent FROM vendors v JOIN subquery1_1 recent_deliveries ON v.vendor_id = recent_deliveries.vendor_id JOIN subquery1_2 product_summary ON recent_deliveries.delivery_id = product_summary.delivery_id JOIN subquery1_3 avg_product_rating ON product_summary.product_id = avg_product_rating.product_id JOIN subquery1_4 total_spent ON v.vendor_id = total_spent.vendor_id WHERE v.contract_start_date <= DATEADD(year, -1, GETDATE()) ORDER BY v.vendor_id, recent_deliveries.delivery_date', 'subquery_dictionary': {'subquery1_1': 'SELECT d.vendor_id, d.delivery_id, d.delivery_date, d.total_amount FROM deliveries d WHERE d.delivery_date >= DATEADD(month, -1, GETDATE())', 'subquery1_2': 'SELECT d.delivery_id, p.product_name, c.category_name, di.unit_price, di.quantity_delivered FROM delivery_items di JOIN products p ON di.product_id = p.product_id JOIN categories c ON p.category_id = c.category_id', 'subquery1_3': 'SELECT r.product_id, AVG(r.rating) AS avg_rating FROM product_reviews r GROUP BY r.product_id', 'subquery1_4': 'SELECT d.vendor_id, SUM(d.total_amount) AS total_spent FROM deliveries d GROUP BY d.vendor_id'}}\n",
      "Dictionary saved as gpt-sql-queries-extracted3/json_data4.json\n"
     ]
    }
   ],
   "source": [
    "for i, response in enumerate(responses):\n",
    "    response = response.replace('json', '').strip('```')\n",
    "    json_data = parse_sql_to_json(response.strip())\n",
    "    print(json_data)\n",
    "\n",
    "    # Specify the file name\n",
    "    filename = f'gpt-sql-queries-extracted3/json_data{i}.json'\n",
    "\n",
    "    # Save the dictionary as a JSON file\n",
    "    with open(filename, 'w') as json_file:\n",
    "        json.dump(json_data, json_file, indent=4)\n",
    "\n",
    "    print(f\"Dictionary saved as {filename}\")"
   ]
  },
  {
   "cell_type": "code",
   "execution_count": null,
   "metadata": {},
   "outputs": [],
   "source": []
  }
 ],
 "metadata": {
  "kernelspec": {
   "display_name": "rabo",
   "language": "python",
   "name": "python3"
  },
  "language_info": {
   "codemirror_mode": {
    "name": "ipython",
    "version": 3
   },
   "file_extension": ".py",
   "mimetype": "text/x-python",
   "name": "python",
   "nbconvert_exporter": "python",
   "pygments_lexer": "ipython3",
   "version": "3.10.14"
  }
 },
 "nbformat": 4,
 "nbformat_minor": 2
}
